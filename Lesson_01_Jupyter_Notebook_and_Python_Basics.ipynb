{
 "cells": [
  {
   "cell_type": "markdown",
   "id": "c68ec842",
   "metadata": {},
   "source": [
    "# Lesson 01: Jupyter Notebook and Python Basics \n",
    "\n",
    "This notebook is designed to help you learn how to use Jupyter notebooks and introduce you to Python basics through an applied approach. Each section introduces a concept with examples, followed by an exercise where you complete the code."
   ]
  },
  {
   "cell_type": "markdown",
   "id": "d34940d4",
   "metadata": {},
   "source": [
    "# 1. Jupyter Notebook Basics\n",
    "A Jupyter Notebook consists of cells that can contain code, text, or markdown.\n",
    "\n",
    "#### - **Running a cell:** Press `Shift + Enter` to execute the current cell and move to the next one.\n",
    "#### - **Commenting:** Use `#` to add comments to your code. Comments are ignored during execution.\n",
    "#### - **Adding cells:** Use the `+` button in the toolbar to add a new cell.\n",
    "#### - **Changing cell types:** Use the dropdown menu in the toolbar to switch between \"Code\" and \"Markdown\" cells.\n",
    "\n"
   ]
  },
  {
   "cell_type": "markdown",
   "id": "bc8a1012",
   "metadata": {},
   "source": [
    "## Exercise 01: Jupyter Notebook Basics\n"
   ]
  },
  {
   "cell_type": "markdown",
   "id": "9e29b95a",
   "metadata": {},
   "source": [
    "#### - **Add a new cell**: Use the `+` button to add a new cell below.\n",
    "#### - **Add a heading**: Use the drop down next to the  `>>` icon to change the cell to the type `Markdown`. Then type in `#` followed by a space and type `Exercise 1.1 response`. The more the number of `#` the small the heading text. Try different number of `#` and see how the heading size changes.\n",
    "#### - **Add another new cell**: Use the `+` button to add a new cell below.\n",
    "#### - **Add a comment**: Type in `#` followed by a space and type `This code will print 'Hello'`. \n",
    "#### - **Add code:**: Write code `print(\"Hello\")`.\n",
    "#### - **Running a cell:** Press `Shift + Enter` to execute the code."
   ]
  },
  {
   "cell_type": "markdown",
   "id": "ba584b18",
   "metadata": {},
   "source": [
    "# 2. Python basics"
   ]
  },
  {
   "cell_type": "markdown",
   "id": "bc6cd115",
   "metadata": {},
   "source": [
    "## 2.1. Variables\n",
    "Variables are used to store data in Python.\n",
    "Each variable has a name, and the data it holds can be of different types. \n",
    "\n",
    "The main types:\n",
    "###### -**int:** Integer numbers, e.g., 5, -10, 42\n",
    "###### -**float:** Decimal numbers, e.g., 3.14, -0.001\n",
    "###### -**str:** Strings (text), e.g., \"Hello\", \"Python\"\n",
    "###### -**bool:** Boolean values, either True or False"
   ]
  },
  {
   "cell_type": "markdown",
   "id": "640b54e1",
   "metadata": {},
   "source": [
    "### 2.1 Examples"
   ]
  },
  {
   "cell_type": "code",
   "execution_count": 2,
   "id": "2c42074e",
   "metadata": {},
   "outputs": [
    {
     "name": "stdout",
     "output_type": "stream",
     "text": [
      "Variable x: 5\n",
      "Variable name: Alice\n",
      "Variable is_student: True\n"
     ]
    }
   ],
   "source": [
    "x = 5\n",
    "name = \"Alice\"\n",
    "is_student = True\n",
    "\n",
    "print(\"Variable x:\", x)\n",
    "print(\"Variable name:\", name)\n",
    "print(\"Variable is_student:\", is_student)"
   ]
  },
  {
   "cell_type": "markdown",
   "id": "b1b46801",
   "metadata": {},
   "source": [
    "### 2.2 How to check the type of variable\n",
    "You can use the inbuilt python function `type('variable name')`"
   ]
  },
  {
   "cell_type": "code",
   "execution_count": 6,
   "id": "86235eee",
   "metadata": {},
   "outputs": [
    {
     "name": "stdout",
     "output_type": "stream",
     "text": [
      "Variable x is of type: <class 'int'>\n",
      "Variable name is of type: <class 'str'>\n",
      "Variable is_student is of type: <class 'bool'>\n"
     ]
    }
   ],
   "source": [
    "print(\"Variable x is of type:\", type(x))\n",
    "print(\"Variable name is of type:\", type(name))\n",
    "print(\"Variable is_student is of type:\", type(is_student))"
   ]
  },
  {
   "cell_type": "markdown",
   "id": "2ef2fb89",
   "metadata": {},
   "source": [
    "## Exercise 02: Variables"
   ]
  },
  {
   "cell_type": "code",
   "execution_count": null,
   "id": "625ef15c",
   "metadata": {},
   "outputs": [],
   "source": [
    "# Replace the blanks (_) to define variables with the correct types\n",
    "age = ____\n",
    "gpa = ____\n",
    "first_name = ____\n",
    "is_employed = ____\n",
    "\n",
    "#Add the missing code to print\n",
    "print(\"Age:\", ____, \"Type:\", - ____)\n",
    "print(\"GPA:\", ____, \"Type:\", ____)\n",
    "print(\"First Name:\", ____, \"Type:\", ____)\n",
    "print(\"Employed:\", ____, \"Type:\", ____)"
   ]
  },
  {
   "cell_type": "markdown",
   "id": "0d72c531",
   "metadata": {},
   "source": [
    "# 3. Lists\n",
    "A list is a collection of items.\n",
    "\n",
    "Imagine a list is like a shopping list. You can write down multiple items you want to buy, and each item has a specific place in the list. In Python, a list is a way to store a collection of items (like your shopping list). These items can be numbers, words, or even other lists!\n",
    "\n",
    "Why Are Lists Useful?\n",
    "\n",
    "- You Can Store Multiple Things Together: Instead of using a separate variable for every item, you can group them in one list.\n",
    "- You Can Change Them: Add, remove, or update items whenever you need.\n",
    "- You Can Do Things Quickly: For example, you can go through all items in a list with a simple loop."
   ]
  },
  {
   "cell_type": "markdown",
   "id": "aa1e6ae0",
   "metadata": {},
   "source": [
    "### 3.1 Defining Lists"
   ]
  },
  {
   "cell_type": "code",
   "execution_count": 20,
   "id": "b6bf03ec",
   "metadata": {},
   "outputs": [],
   "source": [
    "# A list of fruits\n",
    "fruits = [\"apple\", \"banana\", \"cherry\"]\n",
    "\n",
    "# A list of numbers\n",
    "numbers = [1, 2, 3, 4, 5]\n",
    "\n",
    "# A list with different types of items\n",
    "mixed_list = [1, \"hello\", 3.5, True]"
   ]
  },
  {
   "cell_type": "markdown",
   "id": "cb5c6fb2",
   "metadata": {},
   "source": [
    "### 3.2 Accessing data in a list"
   ]
  },
  {
   "cell_type": "code",
   "execution_count": 28,
   "id": "21614127",
   "metadata": {},
   "outputs": [
    {
     "name": "stdout",
     "output_type": "stream",
     "text": [
      "apple\n",
      "banana\n"
     ]
    }
   ],
   "source": [
    "fruits = [\"apple\", \"banana\", \"cherry\"]\n",
    "print(fruits[0])  # Gets the first item: apple\n",
    "print(fruits[1])  # Gets the second item: banana"
   ]
  },
  {
   "cell_type": "markdown",
   "id": "e8234211",
   "metadata": {},
   "source": [
    "### 3.3 Adding new elements to a list"
   ]
  },
  {
   "cell_type": "code",
   "execution_count": 21,
   "id": "22840a0a",
   "metadata": {},
   "outputs": [
    {
     "name": "stdout",
     "output_type": "stream",
     "text": [
      "['apple', 'banana', 'cherry']\n",
      "['apple', 'blueberry', 'banana', 'cherry']\n"
     ]
    }
   ],
   "source": [
    "fruits = [\"apple\", \"banana\"]\n",
    "fruits.append(\"cherry\")  # Add \"cherry\" at the end\n",
    "print(fruits)  # Output: ['apple', 'banana', 'cherry']\n"
   ]
  },
  {
   "cell_type": "code",
   "execution_count": 23,
   "id": "12c96a0b",
   "metadata": {},
   "outputs": [
    {
     "name": "stdout",
     "output_type": "stream",
     "text": [
      "['apple', 'blueberry', 'blueberry', 'blueberry', 'banana', 'cherry']\n"
     ]
    }
   ],
   "source": [
    "fruits.insert(1, \"blueberry\")  # Add \"blueberry\" at position 1\n",
    "print(fruits)  # Output: ['apple', 'blueberry', 'banana', 'cherry']"
   ]
  },
  {
   "cell_type": "markdown",
   "id": "72f0ed24",
   "metadata": {},
   "source": [
    "### 3.4 Removing elements from a list "
   ]
  },
  {
   "cell_type": "code",
   "execution_count": null,
   "id": "0b0d713c",
   "metadata": {},
   "outputs": [],
   "source": [
    "fruits = [\"apple\", \"banana\", \"cherry\"]\n",
    "fruits.remove(\"banana\")  # Remove \"banana\"\n",
    "print(fruits)  # Output: ['apple', 'cherry']\n",
    "\n",
    "fruits.pop()  # Remove the last item\n",
    "print(fruits)  # Output: ['apple']"
   ]
  },
  {
   "cell_type": "markdown",
   "id": "3b41553c",
   "metadata": {},
   "source": [
    "### 3.5 Calculating the length of a list"
   ]
  },
  {
   "cell_type": "code",
   "execution_count": 29,
   "id": "2f59ad3a",
   "metadata": {},
   "outputs": [
    {
     "data": {
      "text/plain": [
       "3"
      ]
     },
     "execution_count": 29,
     "metadata": {},
     "output_type": "execute_result"
    }
   ],
   "source": [
    "fruits = [\"apple\", \"banana\", \"cherry\"]\n",
    "len(fruits)  # Output: 3"
   ]
  },
  {
   "cell_type": "markdown",
   "id": "60c2987b",
   "metadata": {},
   "source": [
    "### 3.6 Example"
   ]
  },
  {
   "cell_type": "code",
   "execution_count": 31,
   "id": "8e9dcdaf",
   "metadata": {},
   "outputs": [
    {
     "name": "stdout",
     "output_type": "stream",
     "text": [
      "['Do laundry', 'Buy groceries', 'Study Python']\n",
      "['Buy groceries', 'Study Python']\n"
     ]
    }
   ],
   "source": [
    "# Start with an empty list\n",
    "todo_list = []\n",
    "\n",
    "# Add tasks to the list\n",
    "todo_list.append(\"Do laundry\")\n",
    "todo_list.append(\"Buy groceries\")\n",
    "todo_list.append(\"Study Python\")\n",
    "\n",
    "# Check the list\n",
    "print(todo_list)  # Output: ['Do laundry', 'Buy groceries', 'Study Python']\n",
    "\n",
    "# Finish a task and remove it\n",
    "todo_list.remove(\"Do laundry\")\n",
    "print(todo_list)  # Output: ['Buy groceries', 'Study Python']"
   ]
  },
  {
   "cell_type": "markdown",
   "id": "d0116a26",
   "metadata": {},
   "source": [
    "## Exercise 03: Lists"
   ]
  },
  {
   "cell_type": "code",
   "execution_count": null,
   "id": "398c114d",
   "metadata": {},
   "outputs": [],
   "source": [
    "# Create a list with items: Milk, Bread, Eggs, Butter\n",
    "shopping_list = [____,____,____,____]\n",
    "\n",
    "# Print the shopping list\n",
    "print(____)"
   ]
  },
  {
   "cell_type": "code",
   "execution_count": null,
   "id": "d5a03d0b",
   "metadata": {},
   "outputs": [],
   "source": [
    "# Print the first item\n",
    "print(shopping_list[____])\n",
    "\n",
    "# Print the last item\n",
    "print(shopping_list[____])  # Hint: Use -1 to get the last item"
   ]
  },
  {
   "cell_type": "code",
   "execution_count": null,
   "id": "0fe6795a",
   "metadata": {},
   "outputs": [],
   "source": [
    "# Add \"Cheese\" to the end of the list\n",
    "shopping_list.____(\"Cheese\")\n",
    "\n",
    "# Replace \"Butter\" with \"Peanut Butter\"\n",
    "shopping_list[____] = \"Peanut Butter\"\n",
    "\n",
    "# Print the updated list\n",
    "print(____)"
   ]
  },
  {
   "cell_type": "code",
   "execution_count": null,
   "id": "a2957282",
   "metadata": {},
   "outputs": [],
   "source": [
    "# Remove \"Eggs\" from the list\n",
    "shopping_list.____(\"Eggs\")\n",
    "\n",
    "# Remove the last item and store it in a variable\n",
    "removed_item = shopping_list.____()\n",
    "\n",
    "# Print the updated list\n",
    "print(____)\n",
    "\n",
    "# Print the removed item\n",
    "print(\"Removed item:\", ____)"
   ]
  },
  {
   "cell_type": "code",
   "execution_count": null,
   "id": "f7182573",
   "metadata": {},
   "outputs": [],
   "source": [
    "# Get the number of items in the list\n",
    "list_length = ____ (shopping_list)\n",
    "\n",
    "# Print the length\n",
    "print(\"The shopping list has\", ____, \"items.\")"
   ]
  },
  {
   "cell_type": "markdown",
   "id": "a82250b7",
   "metadata": {},
   "source": [
    "# 4. Dictionaries"
   ]
  },
  {
   "cell_type": "markdown",
   "id": "ee9b95f5",
   "metadata": {},
   "source": [
    "A dictionary in Python is a collection of items, where each item is made up of a key and a value. You can think of it as a real-world dictionary, where you look up a word (the key) to find its definition (the value).\n",
    "Key Features of Dictionaries:\n",
    "\n",
    "- Key-Value Pairs: Each item in a dictionary is stored as a pair of key: value. Example: {\"name\": \"Alice\", \"age\": 25}\n",
    "\n",
    "- Unordered: Dictionaries don't keep their items in a specific order (though in Python 3.7 and later, the insertion order is preserved).\n",
    "\n",
    "- Mutable: You can change, add, or remove items from a dictionary after it is created.\n",
    "\n",
    "- Keys are Unique: Each key in a dictionary must be unique, but values can be duplicated.\n",
    "\n",
    "- Keys must be Immutable: Keys can be strings, numbers, or tuples, but they can't be mutable types like lists."
   ]
  },
  {
   "cell_type": "markdown",
   "id": "a3be070f",
   "metadata": {},
   "source": [
    "### 4.1 Creating a Dictionary:\n",
    "\n",
    "You can create a dictionary using curly braces {} or the dict() function."
   ]
  },
  {
   "cell_type": "code",
   "execution_count": 32,
   "id": "fbb451c0",
   "metadata": {},
   "outputs": [],
   "source": [
    "# Using curly braces\n",
    "person = {\"name\": \"Alice\", \"age\": 25, \"city\": \"New York\"}\n",
    "# Alternate way: Using the dict() function\n",
    "person = dict(name=\"Alice\", age=25, city=\"New York\")"
   ]
  },
  {
   "cell_type": "markdown",
   "id": "5b0fdda2",
   "metadata": {},
   "source": [
    "### 4.2 Accessing Dictionary Values:\n",
    "\n",
    "You can access values by their keys using square brackets []."
   ]
  },
  {
   "cell_type": "code",
   "execution_count": 33,
   "id": "9460b784",
   "metadata": {},
   "outputs": [
    {
     "name": "stdout",
     "output_type": "stream",
     "text": [
      "Alice\n",
      "25\n"
     ]
    }
   ],
   "source": [
    "print(person[\"name\"]) \n",
    "print(person[\"age\"])   "
   ]
  },
  {
   "cell_type": "markdown",
   "id": "3f9678bd",
   "metadata": {},
   "source": [
    "### 4.3 Adding or Updating Items:\n",
    "\n",
    "To add or update a key-value pair, use the key in square brackets."
   ]
  },
  {
   "cell_type": "code",
   "execution_count": null,
   "id": "5e29b123",
   "metadata": {},
   "outputs": [],
   "source": [
    "person[\"job\"] = \"Engineer\"  # Add a new key-value pair\n",
    "person[\"age\"] = 30          # Update an existing key-value pair"
   ]
  },
  {
   "cell_type": "markdown",
   "id": "326e3f0b",
   "metadata": {},
   "source": [
    "### 4.4 Removing Items:\n",
    "\n",
    "You can remove items using the del statement or the .pop() method."
   ]
  },
  {
   "cell_type": "code",
   "execution_count": null,
   "id": "840cc740",
   "metadata": {},
   "outputs": [],
   "source": [
    "del person[\"city\"]       # Removes the \"city\" key\n",
    "age = person.pop(\"age\")  # Removes \"age\" and returns its value"
   ]
  },
  {
   "cell_type": "markdown",
   "id": "06dffaca",
   "metadata": {},
   "source": [
    "### 4.5 Dictionary Methods:\n",
    "\n",
    "Dictionaries come with useful methods for working with data.\n",
    "\n",
    "- keys(): Returns all the keys in the dictionary.\n",
    "- values(): Returns all the values in the dictionary.\n",
    "- items(): Returns all key-value pairs as tuples.\n",
    " - get(key, default): Safely retrieves the value for a key; returns default if the key doesn't exist."
   ]
  },
  {
   "cell_type": "code",
   "execution_count": 34,
   "id": "f15c5e4e",
   "metadata": {},
   "outputs": [
    {
     "name": "stdout",
     "output_type": "stream",
     "text": [
      "dict_keys(['name', 'age', 'city'])\n",
      "dict_values(['Alice', 25, 'New York'])\n",
      "dict_items([('name', 'Alice'), ('age', 25), ('city', 'New York')])\n"
     ]
    }
   ],
   "source": [
    "print(person.keys())    # dict_keys(['name', 'job'])\n",
    "print(person.values())  # dict_values(['Alice', 'Engineer'])\n",
    "print(person.items())   # dict_items([('name', 'Alice'), ('job', 'Engineer')])"
   ]
  },
  {
   "cell_type": "markdown",
   "id": "133cff89",
   "metadata": {},
   "source": [
    "### 4.6 Example"
   ]
  },
  {
   "cell_type": "code",
   "execution_count": 35,
   "id": "b2ba67ab",
   "metadata": {},
   "outputs": [
    {
     "name": "stdout",
     "output_type": "stream",
     "text": [
      "John\n",
      "Science\n",
      "{'name': 'John', 'age': 21, 'grade': 'A'}\n"
     ]
    }
   ],
   "source": [
    "# A dictionary to store student data\n",
    "student = {\n",
    "    \"name\": \"John\",\n",
    "    \"age\": 20,\n",
    "    \"courses\": [\"Math\", \"Science\"],\n",
    "}\n",
    "\n",
    "# Access values\n",
    "print(student[\"name\"])           # Output: John\n",
    "print(student[\"courses\"][1])     # Output: Science\n",
    "\n",
    "# Add a new key-value pair\n",
    "student[\"grade\"] = \"A\"\n",
    "\n",
    "# Update an existing value\n",
    "student[\"age\"] = 21\n",
    "\n",
    "# Remove a key-value pair\n",
    "del student[\"courses\"]\n",
    "\n",
    "print(student)"
   ]
  },
  {
   "cell_type": "markdown",
   "id": "70fe8087",
   "metadata": {},
   "source": [
    "## Exercise 04: Dictionaries"
   ]
  },
  {
   "cell_type": "code",
   "execution_count": null,
   "id": "a909ba1e",
   "metadata": {},
   "outputs": [],
   "source": [
    "# 1. Create a dictionary to store information about a car\n",
    "car = {\"brand\": \"Toyota\", \"model\": \"Corolla\", _______: 2020}"
   ]
  },
  {
   "cell_type": "code",
   "execution_count": null,
   "id": "56709fd2",
   "metadata": {},
   "outputs": [],
   "source": [
    "# 2. Add a new key-value pair for the car's color\n",
    "car[_________] = \"Blue\""
   ]
  },
  {
   "cell_type": "code",
   "execution_count": null,
   "id": "75db9c1f",
   "metadata": {},
   "outputs": [],
   "source": [
    "# 3. Update the car's model to \"Camry\"\n",
    "car[_________] = \"Camry\""
   ]
  },
  {
   "cell_type": "code",
   "execution_count": null,
   "id": "1209962d",
   "metadata": {},
   "outputs": [],
   "source": [
    "# 4. Print the value of the car's brand\n",
    "print(\"Brand:\", car[_________])"
   ]
  },
  {
   "cell_type": "code",
   "execution_count": null,
   "id": "b456ee07",
   "metadata": {},
   "outputs": [],
   "source": [
    "# 5. Remove the \"year\" key from the dictionary\n",
    "__________ car[\"year\"]"
   ]
  },
  {
   "cell_type": "code",
   "execution_count": null,
   "id": "b5f08b8d",
   "metadata": {},
   "outputs": [],
   "source": [
    "# 6. Safely get the car's color using the `get` method\n",
    "car_color = car.get(_________)\n",
    "print(\"Color:\", car_color)"
   ]
  },
  {
   "cell_type": "code",
   "execution_count": null,
   "id": "185aa02f",
   "metadata": {},
   "outputs": [],
   "source": [
    "# 7. Print the entire dictionary\n",
    "print(\"Car details:\", car)"
   ]
  },
  {
   "cell_type": "markdown",
   "id": "2351503d",
   "metadata": {},
   "source": [
    "## Challenge 02: Dictionaries"
   ]
  },
  {
   "cell_type": "code",
   "execution_count": null,
   "id": "20ac3601",
   "metadata": {},
   "outputs": [],
   "source": [
    "# 1. Create a dictionary for a student\n",
    "# Fill in the blanks to include the student's name, age, and enrolled courses\n",
    "student = {\n",
    "    \"name\": \"John Doe\",\n",
    "    \"age\": 20,\n",
    "    \"courses\": _________\n",
    "}\n",
    "\n",
    "# 2. Add a new key-value pair for the student's grade\n",
    "student[_________] = \"A\"\n",
    "\n",
    "# 3. Update the student's age to 21\n",
    "student[_________] = _________\n",
    "\n",
    "# 4. Retrieve the list of courses the student is enrolled in and print it\n",
    "courses = student.get(_________)\n",
    "print(\"Courses:\", _________)\n",
    "\n",
    "# 5. Add a new course, \"Physics\", to the list of courses\n",
    "# Hint: Use the list's append() method\n",
    "student[\"courses\"]._________(\"Physics\")\n",
    "\n",
    "# 6. Remove the \"grade\" key from the dictionary\n",
    "__________ student[\"grade\"]\n",
    "\n",
    "# 7. Print all the keys in the dictionary\n",
    "print(\"Keys:\", student._________())\n",
    "\n",
    "# 8. Print all the key-value pairs in the dictionary\n",
    "print(\"Key-Value Pairs:\", student._________())\n",
    "\n",
    "# 9. Iterate through the dictionary and print each key with its value\n",
    "for key, value in student.items():\n",
    "    print(f\"{key}: {value}\")\n",
    "\n",
    "# 10. Clear the entire dictionary\n",
    "student._________()\n",
    "print(\"Cleared student profile:\", student)"
   ]
  },
  {
   "cell_type": "markdown",
   "id": "c948d885",
   "metadata": {},
   "source": [
    "## 5. Conditional Statements \n",
    "\n",
    "Conditional statements in Python allow you to make decisions in your code based on certain conditions. They enable your program to execute specific blocks of code depending on whether a condition is True or False."
   ]
  },
  {
   "cell_type": "markdown",
   "id": "302a64f6",
   "metadata": {},
   "source": [
    "### 5.1.1 `if` Statement\n",
    "This is used to check a condition. If the condition evaluates to True, the indented block of code below it runs."
   ]
  },
  {
   "cell_type": "code",
   "execution_count": 36,
   "id": "76e58b34",
   "metadata": {},
   "outputs": [
    {
     "ename": "SyntaxError",
     "evalue": "unexpected EOF while parsing (877228951.py, line 2)",
     "output_type": "error",
     "traceback": [
      "\u001b[1;36m  Cell \u001b[1;32mIn[36], line 2\u001b[1;36m\u001b[0m\n\u001b[1;33m    # Code to execute if the condition is True\u001b[0m\n\u001b[1;37m                                              ^\u001b[0m\n\u001b[1;31mSyntaxError\u001b[0m\u001b[1;31m:\u001b[0m unexpected EOF while parsing\n"
     ]
    }
   ],
   "source": [
    "if condition:\n",
    "    # Code to execute if the condition is True"
   ]
  },
  {
   "cell_type": "markdown",
   "id": "01dc7734",
   "metadata": {},
   "source": [
    "### 5.1.2 `else` Statement\n",
    "This provides an alternative block of code if the condition in the if statement is False."
   ]
  },
  {
   "cell_type": "code",
   "execution_count": null,
   "id": "577f8392",
   "metadata": {},
   "outputs": [],
   "source": [
    "if condition:\n",
    "    # Code to execute if the condition is True\n",
    "else:\n",
    "    # Code to execute if the condition is False"
   ]
  },
  {
   "cell_type": "markdown",
   "id": "71a3d393",
   "metadata": {},
   "source": [
    "### 5.1.3 `elif` Statement\n",
    "Short for \"else if,\" it allows you to check multiple conditions in sequence."
   ]
  },
  {
   "cell_type": "code",
   "execution_count": 4,
   "id": "d5cdb342",
   "metadata": {},
   "outputs": [
    {
     "ename": "IndentationError",
     "evalue": "expected an indented block (1073590584.py, line 3)",
     "output_type": "error",
     "traceback": [
      "\u001b[1;36m  Cell \u001b[1;32mIn[4], line 3\u001b[1;36m\u001b[0m\n\u001b[1;33m    elif condition2:\u001b[0m\n\u001b[1;37m    ^\u001b[0m\n\u001b[1;31mIndentationError\u001b[0m\u001b[1;31m:\u001b[0m expected an indented block\n"
     ]
    }
   ],
   "source": [
    "if condition1:\n",
    "    # Code to execute if condition1 is True\n",
    "elif condition2:\n",
    "    # Code to execute if condition2 is True\n",
    "else:\n",
    "    # Code to execute if all conditions are False"
   ]
  },
  {
   "cell_type": "markdown",
   "id": "96b4353a",
   "metadata": {},
   "source": [
    "### 5.1.4 Example"
   ]
  },
  {
   "cell_type": "code",
   "execution_count": 40,
   "id": "8d652028",
   "metadata": {},
   "outputs": [
    {
     "name": "stdout",
     "output_type": "stream",
     "text": [
      "You are just an adult!\n"
     ]
    }
   ],
   "source": [
    "age = 18\n",
    "\n",
    "if age < 18:\n",
    "    print(\"You are a minor.\")\n",
    "elif age == 18:\n",
    "    print(\"You are just an adult!\")\n",
    "else:\n",
    "    print(\"You are an adult.\")"
   ]
  },
  {
   "cell_type": "markdown",
   "id": "25244a90",
   "metadata": {},
   "source": [
    "### 5.2 Logical Operators in Conditions\n",
    "\n",
    "You can combine conditions using logical operators:\n",
    "\n",
    "- and: Both conditions must be true.\n",
    "- or: At least one condition must be true.\n",
    "- not: Reverses the truth value of a condition."
   ]
  },
  {
   "cell_type": "code",
   "execution_count": 45,
   "id": "fb97b27a",
   "metadata": {},
   "outputs": [
    {
     "name": "stdout",
     "output_type": "stream",
     "text": [
      "You cannot enter.\n"
     ]
    }
   ],
   "source": [
    "age = 15\n",
    "has_id = True\n",
    "\n",
    "if age >= 18 and has_id:\n",
    "    print(\"You can enter.\")\n",
    "else:\n",
    "    print(\"You cannot enter.\")"
   ]
  },
  {
   "cell_type": "markdown",
   "id": "6a899aab",
   "metadata": {},
   "source": [
    "### 5.3 Nested Conditional Statements\n",
    "\n",
    "You can place an if statement inside another if or else block."
   ]
  },
  {
   "cell_type": "code",
   "execution_count": 43,
   "id": "4c10499c",
   "metadata": {},
   "outputs": [
    {
     "name": "stdout",
     "output_type": "stream",
     "text": [
      "You can vote but not drink alcohol.\n"
     ]
    }
   ],
   "source": [
    "age = 20\n",
    "\n",
    "if age >= 18:\n",
    "    if age >= 21:\n",
    "        print(\"You can drink alcohol.\")\n",
    "    else:\n",
    "        print(\"You can vote but not drink alcohol.\")\n",
    "else:\n",
    "    print(\"You are too young.\")"
   ]
  },
  {
   "cell_type": "markdown",
   "id": "e45bc83e",
   "metadata": {},
   "source": [
    "## Exercise 05: Conditional Statements"
   ]
  },
  {
   "cell_type": "code",
   "execution_count": null,
   "id": "ca1cbf94",
   "metadata": {},
   "outputs": [],
   "source": [
    "# Fill in the blanks to determine eligibility to drive\n",
    "age = ___  # Set the user's age here (e.g., 16)\n",
    "\n",
    "if age ___ 18:  # Check if the user is old enough\n",
    "    print(\"You are old enough to drive.\")\n",
    "___:  # Add the keyword for the alternative case\n",
    "    print(\"You are too young to drive.\")\n",
    "___:  # Add the keyword for the alternative case\n",
    "    print(\"You are too young to drive.\")"
   ]
  },
  {
   "cell_type": "markdown",
   "id": "cb223ed5",
   "metadata": {},
   "source": [
    "## Challenge 03: Conditional Statements\n",
    "\n",
    "Write a code for the following:\n",
    "- If a number is greater than 2: print 'Number is greater than 2'.\n",
    "- If a number is greater than 10: print 'Number is greater than 10' \n",
    "- If the number is greater than 2 and less than 5: print 'Number is 3 or 4'.\n",
    "- If the number is greater than 2 and greater than 5 but less than 10: print 'Number is 6,7, 8 or 9'."
   ]
  },
  {
   "cell_type": "markdown",
   "id": "0dc59a53",
   "metadata": {},
   "source": [
    "## 6. Loops\n",
    "\n",
    "In Python, loops are used to repeatedly execute a block of code as long as a condition is met. They are especially helpful when you want to automate repetitive tasks.\n",
    "\n",
    "There are two main types of loops in Python: for loops and while loops. Here, we’ll focus on the for loop, as it’s the most commonly used for iterating over sequences like lists, strings, dictionaries, or ranges of numbers."
   ]
  },
  {
   "cell_type": "markdown",
   "id": "cc72d5a3",
   "metadata": {},
   "source": [
    "### 6.1 `for` Loops\n",
    "\n",
    "A for loop is used when you want to perform an action for each item in a sequence (like a list, string, or range). It’s designed to iterate over a collection of items one at a time."
   ]
  },
  {
   "cell_type": "code",
   "execution_count": null,
   "id": "7799543a",
   "metadata": {},
   "outputs": [],
   "source": [
    "fruits = [\"apple\", \"banana\", \"cherry\"]\n",
    "for fruit in fruits:\n",
    "    print(fruit)"
   ]
  },
  {
   "cell_type": "code",
   "execution_count": null,
   "id": "9fc60225",
   "metadata": {},
   "outputs": [],
   "source": []
  },
  {
   "cell_type": "code",
   "execution_count": null,
   "id": "5849530c",
   "metadata": {},
   "outputs": [],
   "source": [
    "for i in range(5):\n",
    "    print(i)"
   ]
  },
  {
   "cell_type": "code",
   "execution_count": null,
   "id": "694b5467",
   "metadata": {},
   "outputs": [],
   "source": [
    "for letter in \"hello\":\n",
    "    print(letter)"
   ]
  },
  {
   "cell_type": "markdown",
   "id": "ed0c4c4a",
   "metadata": {},
   "source": [
    "### 6.1.1 Adding Conditions with if"
   ]
  },
  {
   "cell_type": "code",
   "execution_count": null,
   "id": "33033d72",
   "metadata": {},
   "outputs": [],
   "source": [
    "for i in range(10):\n",
    "    if i % 2 == 0:\n",
    "        print(i)\n",
    "        \n",
    "# % is the modulo operator, which checks for a remainder. If i % 2 == 0, i is even."
   ]
  },
  {
   "cell_type": "markdown",
   "id": "07e549d6",
   "metadata": {},
   "source": [
    "### 6.1.2 Nested for Loops"
   ]
  },
  {
   "cell_type": "code",
   "execution_count": null,
   "id": "f1879b41",
   "metadata": {},
   "outputs": [],
   "source": [
    "or i in range(1, 4):\n",
    "    for j in range(1, 4):\n",
    "        print(i * j, end=\" \")\n",
    "    print()"
   ]
  },
  {
   "cell_type": "markdown",
   "id": "2d3f5d7d",
   "metadata": {},
   "source": [
    "## Exercise 06: For loops"
   ]
  },
  {
   "cell_type": "code",
   "execution_count": null,
   "id": "2343ba4b",
   "metadata": {},
   "outputs": [],
   "source": [
    "# Task 1: Complete the code to print each animal name in the list\n",
    "animals = [\"dog\", \"cat\", \"rabbit\", \"elephant\"]\n",
    "\n",
    "for _________ in _________:\n",
    "    print(_________)"
   ]
  },
  {
   "cell_type": "code",
   "execution_count": null,
   "id": "96121f8e",
   "metadata": {},
   "outputs": [],
   "source": [
    "#Task 2: Write a Python program to print the squares of numbers from 1 to 10.\n",
    "# Hint: ** is the symbol for adding squares of cubes. Eg. 2**2 will give you 4 and 2**3 will give you 8\n"
   ]
  }
 ],
 "metadata": {
  "kernelspec": {
   "display_name": "Python 3 (ipykernel)",
   "language": "python",
   "name": "python3"
  },
  "language_info": {
   "codemirror_mode": {
    "name": "ipython",
    "version": 3
   },
   "file_extension": ".py",
   "mimetype": "text/x-python",
   "name": "python",
   "nbconvert_exporter": "python",
   "pygments_lexer": "ipython3",
   "version": "3.8.8"
  }
 },
 "nbformat": 4,
 "nbformat_minor": 5
}
