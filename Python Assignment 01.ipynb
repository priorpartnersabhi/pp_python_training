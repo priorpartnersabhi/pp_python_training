{
 "cells": [
  {
   "cell_type": "markdown",
   "id": "4ce0f68e",
   "metadata": {},
   "source": [
    "### 1. Develop a tool that takes a city name as user input and provides the user a print of the city name and its population. Use the data below to test the function."
   ]
  },
  {
   "cell_type": "code",
   "execution_count": 1,
   "id": "46f32c2e",
   "metadata": {},
   "outputs": [],
   "source": [
    "\n",
    "\n",
    "cities_population = {\n",
    "    \"Tokyo\": 37400068,\n",
    "    \"Delhi\": 32065760,\n",
    "    \"Shanghai\": 28516904,\n",
    "    \"São Paulo\": 22429800,\n",
    "    \"Mumbai\": 21296516,\n",
    "    \"Cairo\": 21750020,\n",
    "    \"Beijing\": 21333332,\n",
    "    \"Dhaka\": 20283552,\n",
    "    \"Mexico City\": 21919800,\n",
    "    \"New York\": 18937200\n",
    "}"
   ]
  },
  {
   "cell_type": "code",
   "execution_count": 7,
   "id": "1db49c3f",
   "metadata": {},
   "outputs": [],
   "source": [
    "# User input required \n",
    "city = \"Mumbai\" #input city name eg. \"Mumbai\""
   ]
  },
  {
   "cell_type": "code",
   "execution_count": 8,
   "id": "5c7804ae",
   "metadata": {},
   "outputs": [],
   "source": [
    "def pop(city):\n",
    "    for key, value in cities_population.items():\n",
    "        if city == key:\n",
    "            print(f\"{key}, population: {value}\")"
   ]
  },
  {
   "cell_type": "code",
   "execution_count": 9,
   "id": "7ade4785",
   "metadata": {},
   "outputs": [
    {
     "name": "stdout",
     "output_type": "stream",
     "text": [
      "Mumbai, population: 21296516\n"
     ]
    }
   ],
   "source": [
    "pop(city)"
   ]
  },
  {
   "cell_type": "markdown",
   "id": "b40e879c",
   "metadata": {},
   "source": [
    "### 2. The clients wants a more refined output. If the city input by the user does not exist in the data the tool should tell the user that the city name was not found in the database"
   ]
  },
  {
   "cell_type": "code",
   "execution_count": 18,
   "id": "6325e623",
   "metadata": {},
   "outputs": [],
   "source": [
    "def pop2(city):\n",
    "    if city in cities_population.keys():\n",
    "        pop(city)\n",
    "    else: \n",
    "        print(f\"Not in the database\")"
   ]
  },
  {
   "cell_type": "code",
   "execution_count": 24,
   "id": "5f0db025",
   "metadata": {},
   "outputs": [
    {
     "name": "stdout",
     "output_type": "stream",
     "text": [
      "Not in the database\n"
     ]
    }
   ],
   "source": [
    "pop2(\"ksjddkfn\")"
   ]
  },
  {
   "cell_type": "markdown",
   "id": "045b1b15",
   "metadata": {},
   "source": [
    "### 3. The tool should now allow the user to input multiple cities at the same time."
   ]
  },
  {
   "cell_type": "code",
   "execution_count": 30,
   "id": "19a7db2e",
   "metadata": {},
   "outputs": [
    {
     "name": "stdout",
     "output_type": "stream",
     "text": [
      "['Tokyo', 'Delhi', 'Shanghai', 'São Paulo', 'Mumbai', 'Cairo', 'Beijing', 'Dhaka', 'Mexico City', 'New York']\n"
     ]
    }
   ],
   "source": [
    "city_list = []\n",
    "for city in cities_population.keys():\n",
    "    city_list.append(city)\n",
    "    \n",
    "print(city_list)"
   ]
  },
  {
   "cell_type": "code",
   "execution_count": 36,
   "id": "45be91a7",
   "metadata": {},
   "outputs": [],
   "source": [
    "#Method 1\n",
    "# Method 2\n",
    "def pop2(cityquery):\n",
    "    for i in cityquery:\n",
    "        if i in cities_population.keys():\n",
    "            pop(i)\n",
    "        else:\n",
    "            print(f\"Not in the database\")\n",
    "                \n",
    "                "
   ]
  },
  {
   "cell_type": "code",
   "execution_count": 37,
   "id": "39995b01",
   "metadata": {
    "scrolled": true
   },
   "outputs": [
    {
     "name": "stdout",
     "output_type": "stream",
     "text": [
      "Tokyo, population: 37400068\n",
      "Delhi, population: 32065760\n"
     ]
    }
   ],
   "source": [
    "pop2(['Tokyo', 'Delhi'])"
   ]
  },
  {
   "cell_type": "markdown",
   "id": "e491aa40",
   "metadata": {},
   "source": [
    "### 4. They want the tool to not only tell them the population of the list of cities they input but also benchmark the population against a user defined population threshold."
   ]
  },
  {
   "cell_type": "code",
   "execution_count": 43,
   "id": "a54cc6ff",
   "metadata": {},
   "outputs": [],
   "source": [
    "def pop_new(city):\n",
    "    for key, value in cities_population.items():\n",
    "        if city == key:\n",
    "            return(value)"
   ]
  },
  {
   "cell_type": "code",
   "execution_count": 46,
   "id": "341139de",
   "metadata": {},
   "outputs": [],
   "source": [
    "def pop3(cityquery, threshold):\n",
    "    for i in cityquery:\n",
    "        if i in cities_population.keys():\n",
    "            if pop_new(i) > threshold:            \n",
    "                print(f\"{i} has population of {pop_new(i)} higher than {threshold}\")\n",
    "            elif pop_new(i) < threshold:\n",
    "                print(f\"{i} has population of {pop_new(i)} lower than {threshold}\")\n",
    "            elif pop_new(i) == threshold:\n",
    "                print(f\"{i} has population of {pop_new(i)} the same than {threshold}\")\n",
    "            else:\n",
    "                print(f\"Not in the database\")"
   ]
  },
  {
   "cell_type": "code",
   "execution_count": 47,
   "id": "f9b90417",
   "metadata": {},
   "outputs": [
    {
     "name": "stdout",
     "output_type": "stream",
     "text": [
      "Tokyo has population of 37400068 higher than 22429800\n",
      "Delhi has population of 32065760 higher than 22429800\n",
      "Shanghai has population of 28516904 higher than 22429800\n",
      "São Paulo has population of 22429800 the same than 22429800\n",
      "Mumbai has population of 21296516 lower than 22429800\n",
      "Cairo has population of 21750020 lower than 22429800\n",
      "Beijing has population of 21333332 lower than 22429800\n",
      "Dhaka has population of 20283552 lower than 22429800\n",
      "Mexico City has population of 21919800 lower than 22429800\n",
      "New York has population of 18937200 lower than 22429800\n"
     ]
    }
   ],
   "source": [
    "pop3(city_list, 22429800)"
   ]
  },
  {
   "cell_type": "markdown",
   "id": "69b3eb91",
   "metadata": {},
   "source": [
    "### 5. The tool should give them a list of cities that have a population between a user defined range."
   ]
  },
  {
   "cell_type": "code",
   "execution_count": 77,
   "id": "928b8818",
   "metadata": {},
   "outputs": [],
   "source": [
    "def pop4(cityquery, threshold1, threshold2):\n",
    "    client_cities = []\n",
    "    for i in cityquery:\n",
    "        if i in cities_population.keys():\n",
    "            if pop_new(i) >= threshold1 and pop_new(i) <= threshold2:            \n",
    "                client_cities.append(i)    \n",
    "            elif pop_new(i) < threshold1 or pop_new(i) > threshold2:\n",
    "                pass\n",
    "        else:\n",
    "                print(f\"Not in the database\")\n",
    "               \n",
    "    return client_cities"
   ]
  },
  {
   "cell_type": "code",
   "execution_count": 78,
   "id": "817b2d1d",
   "metadata": {},
   "outputs": [
    {
     "data": {
      "text/plain": [
       "['Shanghai', 'São Paulo', 'Mumbai', 'Cairo', 'Beijing', 'Dhaka', 'Mexico City']"
      ]
     },
     "execution_count": 78,
     "metadata": {},
     "output_type": "execute_result"
    }
   ],
   "source": [
    "pop4(city_list, 20000000, 30000000)"
   ]
  },
  {
   "cell_type": "code",
   "execution_count": 64,
   "id": "3e523808",
   "metadata": {},
   "outputs": [],
   "source": [
    "client_update_list = pop4(city_list, 20000000, 30000000)"
   ]
  },
  {
   "cell_type": "code",
   "execution_count": 65,
   "id": "3ddf0a67",
   "metadata": {},
   "outputs": [
    {
     "name": "stdout",
     "output_type": "stream",
     "text": [
      "['Shanghai', 'São Paulo', 'Mumbai', 'Cairo', 'Beijing', 'Dhaka', 'Mexico City']\n"
     ]
    }
   ],
   "source": [
    "print(client_update_list)"
   ]
  },
  {
   "cell_type": "code",
   "execution_count": 83,
   "id": "e29586d9",
   "metadata": {},
   "outputs": [],
   "source": [
    "def pop5(cityquery, threshold1, threshold2):\n",
    "    client_cities = []\n",
    "    for i in cityquery:\n",
    "        if i in cities_population.keys():\n",
    "            if pop_new(i) >= threshold1 and pop_new(i) <= threshold2 and i[0]!=\"S\":            \n",
    "                client_cities.append(i)    \n",
    "            elif pop_new(i) < threshold1 or pop_new(i) > threshold2:\n",
    "                pass\n",
    "        else:\n",
    "                print(f\"Not in the database\")\n",
    "               \n",
    "    return client_cities"
   ]
  },
  {
   "cell_type": "code",
   "execution_count": 84,
   "id": "d4cdc77f",
   "metadata": {},
   "outputs": [
    {
     "data": {
      "text/plain": [
       "['Mumbai', 'Cairo', 'Beijing', 'Dhaka', 'Mexico City']"
      ]
     },
     "execution_count": 84,
     "metadata": {},
     "output_type": "execute_result"
    }
   ],
   "source": [
    "pop5(city_list, 20000000, 30000000)"
   ]
  },
  {
   "cell_type": "code",
   "execution_count": null,
   "id": "758a03c5",
   "metadata": {},
   "outputs": [],
   "source": []
  }
 ],
 "metadata": {
  "kernelspec": {
   "display_name": "Python 3 (ipykernel)",
   "language": "python",
   "name": "python3"
  },
  "language_info": {
   "codemirror_mode": {
    "name": "ipython",
    "version": 3
   },
   "file_extension": ".py",
   "mimetype": "text/x-python",
   "name": "python",
   "nbconvert_exporter": "python",
   "pygments_lexer": "ipython3",
   "version": "3.8.8"
  }
 },
 "nbformat": 4,
 "nbformat_minor": 5
}
