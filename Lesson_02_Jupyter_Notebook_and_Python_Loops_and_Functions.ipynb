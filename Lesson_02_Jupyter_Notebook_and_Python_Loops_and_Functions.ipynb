{
 "cells": [
  {
   "cell_type": "markdown",
   "id": "c68ec842",
   "metadata": {},
   "source": [
    "# Lesson 02: Jupyter Notebook and Python Basics \n",
    "\n",
    "This notebook is designed to help you learn how to use loops and functions"
   ]
  },
  {
   "cell_type": "markdown",
   "id": "0dc59a53",
   "metadata": {},
   "source": [
    "## 1. Loops\n",
    "\n",
    "In Python, loops are used to repeatedly execute a block of code as long as a condition is met. They are especially helpful when you want to automate repetitive tasks.\n",
    "\n",
    "There are two main types of loops in Python: for loops and while loops. Here, we’ll focus on the for loop, as it’s the most commonly used for iterating over sequences like lists, strings, dictionaries, or ranges of numbers."
   ]
  },
  {
   "cell_type": "markdown",
   "id": "cc72d5a3",
   "metadata": {},
   "source": [
    "### 1.1 `for` Loops\n",
    "\n",
    "A for loop is used when you want to perform an action for each item in a sequence (like a list, string, or range). It’s designed to iterate over a collection of items one at a time."
   ]
  },
  {
   "cell_type": "code",
   "execution_count": 5,
   "id": "7799543a",
   "metadata": {},
   "outputs": [],
   "source": [
    "fruits = [\"apple\", \"banana\", \"cherry\"]"
   ]
  },
  {
   "cell_type": "code",
   "execution_count": 11,
   "id": "1ef3055a",
   "metadata": {},
   "outputs": [
    {
     "name": "stdout",
     "output_type": "stream",
     "text": [
      "apple\n",
      "banana\n",
      "cherry\n"
     ]
    }
   ],
   "source": [
    "for fruit in fruits:\n",
    "    print(fruit)"
   ]
  },
  {
   "cell_type": "code",
   "execution_count": 17,
   "id": "5849530c",
   "metadata": {},
   "outputs": [
    {
     "name": "stdout",
     "output_type": "stream",
     "text": [
      "0\n",
      "1\n",
      "2\n",
      "3\n",
      "4\n"
     ]
    }
   ],
   "source": [
    "for i in range(5):\n",
    "    print(i)"
   ]
  },
  {
   "cell_type": "code",
   "execution_count": 18,
   "id": "90028fec",
   "metadata": {},
   "outputs": [
    {
     "name": "stdout",
     "output_type": "stream",
     "text": [
      "h\n",
      "e\n",
      "l\n",
      "l\n",
      "o\n"
     ]
    }
   ],
   "source": [
    "for letter in \"hello\":\n",
    "    print(letter)"
   ]
  },
  {
   "cell_type": "markdown",
   "id": "ed0c4c4a",
   "metadata": {},
   "source": [
    "### 1.1.1 Adding Conditions with if"
   ]
  },
  {
   "cell_type": "code",
   "execution_count": 28,
   "id": "33033d72",
   "metadata": {},
   "outputs": [
    {
     "name": "stdout",
     "output_type": "stream",
     "text": [
      "0\n",
      "No\n",
      "2\n",
      "No\n",
      "4\n",
      "No\n",
      "6\n",
      "No\n",
      "8\n",
      "No\n"
     ]
    }
   ],
   "source": [
    "for i in range(10):\n",
    "    if i % 2 == 0:\n",
    "        print(i)\n",
    "    else:\n",
    "        print('No')\n",
    "    \n",
    "        \n",
    "# % is the modulo operator, which checks for a remainder. If i % 2 == 0, i is even."
   ]
  },
  {
   "cell_type": "markdown",
   "id": "07e549d6",
   "metadata": {},
   "source": [
    "### 1.1.2 Nested for Loops"
   ]
  },
  {
   "cell_type": "code",
   "execution_count": 31,
   "id": "dc20f1a7",
   "metadata": {},
   "outputs": [],
   "source": [
    "fruits = [\"apple\", \"banana\", \"pear\"]\n",
    "colours = [\"red\",\"yellow\",\"green\"]"
   ]
  },
  {
   "cell_type": "code",
   "execution_count": 41,
   "id": "53801827",
   "metadata": {},
   "outputs": [
    {
     "name": "stdout",
     "output_type": "stream",
     "text": [
      "apple  is  red\n",
      "apple  is  yellow\n",
      "apple  is  green\n",
      "banana  is  red\n",
      "banana  is  yellow\n",
      "banana  is  green\n",
      "pear  is  red\n",
      "pear  is  yellow\n",
      "pear  is  green\n"
     ]
    }
   ],
   "source": [
    "for fruit in fruits:\n",
    "    for colour in colours:\n",
    "        print(fruit, \" is \", colour)"
   ]
  },
  {
   "cell_type": "code",
   "execution_count": 37,
   "id": "f1879b41",
   "metadata": {},
   "outputs": [
    {
     "name": "stdout",
     "output_type": "stream",
     "text": [
      "1 2 3 \n",
      "2 4 6 \n",
      "3 6 9 \n"
     ]
    }
   ],
   "source": [
    "for i in range(1, 4):\n",
    "    for j in range(1, 4):\n",
    "        print(i * j, end=\" \")\n",
    "    print()"
   ]
  },
  {
   "cell_type": "code",
   "execution_count": 44,
   "id": "d88d6aa5",
   "metadata": {},
   "outputs": [
    {
     "name": "stdout",
     "output_type": "stream",
     "text": [
      "apple  is  red\n",
      "banana  is  yellow\n",
      "pear  is  green\n"
     ]
    }
   ],
   "source": [
    "for fruit in fruits:\n",
    "    for colour in colours:\n",
    "        if fruits.index(fruit) == colours.index(colour):\n",
    "            print(fruit, \" is \", colour)\n",
    "        else:\n",
    "            pass    \n",
    "       "
   ]
  },
  {
   "cell_type": "code",
   "execution_count": 48,
   "id": "e3d85e6d",
   "metadata": {},
   "outputs": [
    {
     "data": {
      "text/plain": [
       "True"
      ]
     },
     "execution_count": 48,
     "metadata": {},
     "output_type": "execute_result"
    }
   ],
   "source": [
    "x == 5 "
   ]
  },
  {
   "cell_type": "markdown",
   "id": "2d3f5d7d",
   "metadata": {},
   "source": [
    "## Exercise 01: For loops"
   ]
  },
  {
   "cell_type": "code",
   "execution_count": null,
   "id": "2343ba4b",
   "metadata": {},
   "outputs": [],
   "source": [
    "# Task 1: Complete the code to print each animal name in the list\n",
    "animals = [\"dog\", \"cat\", \"rabbit\", \"elephant\"]\n",
    "\n",
    "for _________ in _________:\n",
    "    print(_________)"
   ]
  },
  {
   "cell_type": "code",
   "execution_count": null,
   "id": "96121f8e",
   "metadata": {},
   "outputs": [],
   "source": [
    "#Task 2: Write a Python program to print the squares of numbers from 1 to 10.\n",
    "# Hint: ** is the symbol for adding squares of cubes. Eg. 2**2 will give you 4 and 2**3 will give you 8\n"
   ]
  },
  {
   "cell_type": "markdown",
   "id": "2bd0d896",
   "metadata": {},
   "source": [
    "# 2. Functions\n",
    "\n",
    "A function is a block of reusable code that performs a specific task. Functions help organize code, avoid repetition, and make programs easier to read and maintain.\n",
    "\n",
    "There are two types of functions in Python:\n",
    "\n",
    " - `Built-in functions`: Predefined functions like print(), len(), max(), etc.\n",
    " - `User-defined functions`: Functions you create to perform specific tasks."
   ]
  },
  {
   "cell_type": "markdown",
   "id": "04f1acbd",
   "metadata": {},
   "source": [
    "### Why Use Functions?\n",
    "\n",
    "- `Reusability`: Write once, use multiple times.\n",
    "- `Modularity`: Break your program into smaller, manageable parts.\n",
    "- `Readability`: Makes the code clean and easy to understand."
   ]
  },
  {
   "cell_type": "markdown",
   "id": "a9f80b25",
   "metadata": {},
   "source": [
    "### 2.1 How to Create a Function\n",
    "\n",
    "You define a function in Python using the def keyword.\n",
    "\n",
    "- `function_name`: The name of the function.\n",
    "- `parameters`: Inputs to the function (optional).\n",
    "- `return`: The output of the function (optional)."
   ]
  },
  {
   "cell_type": "code",
   "execution_count": null,
   "id": "7e998a62",
   "metadata": {},
   "outputs": [],
   "source": [
    "# Basic structure\n",
    "def function_name(parameters):\n",
    "    # Code block\n",
    "    return result"
   ]
  },
  {
   "cell_type": "markdown",
   "id": "dc1772e8",
   "metadata": {},
   "source": [
    "### 2.1.1 A Simple Function"
   ]
  },
  {
   "cell_type": "code",
   "execution_count": 2,
   "id": "ff7e05b4",
   "metadata": {},
   "outputs": [],
   "source": [
    "#Simple example\n",
    "def greeting():\n",
    "    print(\"Hello! Welcome to the P+P Python Training.\")  "
   ]
  },
  {
   "cell_type": "code",
   "execution_count": 3,
   "id": "34266bf6",
   "metadata": {},
   "outputs": [
    {
     "name": "stdout",
     "output_type": "stream",
     "text": [
      "Hello! Welcome to the P+P Python Training.\n"
     ]
    }
   ],
   "source": [
    "# Calling the function\n",
    "greeting()  "
   ]
  },
  {
   "cell_type": "markdown",
   "id": "8e7fbe01",
   "metadata": {},
   "source": [
    "### 2.1.2 A Function with Parameters"
   ]
  },
  {
   "cell_type": "code",
   "execution_count": 4,
   "id": "e7456b86",
   "metadata": {},
   "outputs": [],
   "source": [
    "def greet_with_name(name):\n",
    "    print(f\"Hello, {name}! Welcome to the P+P Python Training\")"
   ]
  },
  {
   "cell_type": "code",
   "execution_count": 7,
   "id": "58984c19",
   "metadata": {},
   "outputs": [
    {
     "name": "stdout",
     "output_type": "stream",
     "text": [
      "Hello, 6! Welcome to the P+P Python Training\n"
     ]
    }
   ],
   "source": [
    "# Calling the function with an argument\n",
    "greet_with_name(\"Sandra\")  "
   ]
  },
  {
   "cell_type": "markdown",
   "id": "e094da14",
   "metadata": {},
   "source": [
    "### 2.1.3 A Function with Return Value"
   ]
  },
  {
   "cell_type": "code",
   "execution_count": 24,
   "id": "ca148618",
   "metadata": {},
   "outputs": [],
   "source": [
    "def add_numbers(a, b):\n",
    "    return a + b"
   ]
  },
  {
   "cell_type": "code",
   "execution_count": 30,
   "id": "a3e0fd55",
   "metadata": {},
   "outputs": [
    {
     "data": {
      "text/plain": [
       "573"
      ]
     },
     "execution_count": 30,
     "metadata": {},
     "output_type": "execute_result"
    }
   ],
   "source": [
    "add_numbers(567, 6)"
   ]
  },
  {
   "cell_type": "markdown",
   "id": "cfc6f78e",
   "metadata": {},
   "source": [
    "### 2.1.3.1 Saving the output of a function as a new variable"
   ]
  },
  {
   "cell_type": "code",
   "execution_count": 28,
   "id": "d4b8ce52",
   "metadata": {},
   "outputs": [
    {
     "name": "stdout",
     "output_type": "stream",
     "text": [
      "The sum is: 8\n"
     ]
    }
   ],
   "source": [
    "result = add_numbers(5, 3)  # Storing the result of the function\n",
    "print(f\"The sum is: {result}\")"
   ]
  },
  {
   "cell_type": "markdown",
   "id": "4e4db384",
   "metadata": {},
   "source": [
    "## Exercise 02: Functions\n",
    "\n",
    "Create a function that calculates the area of a rectangle.\n",
    "\n",
    "`Aim:`\n",
    "- The function should take two parameters: length and width.\n",
    "- It should return the area.\n",
    "\n",
    "`Task:`\n",
    "- Write a function to:\n",
    "- Call the function with different lengths and widths.\n",
    "- Print the result."
   ]
  },
  {
   "cell_type": "markdown",
   "id": "f86bc686",
   "metadata": {},
   "source": [
    "### 2.4 A Function with Optional Parameters"
   ]
  },
  {
   "cell_type": "code",
   "execution_count": 43,
   "id": "552311ca",
   "metadata": {},
   "outputs": [],
   "source": [
    "def foo(b, a=None): \n",
    "    print(\"Value of a is\", a, \" and value of b is\", b)"
   ]
  },
  {
   "cell_type": "code",
   "execution_count": 44,
   "id": "a8e08ea9",
   "metadata": {},
   "outputs": [
    {
     "name": "stdout",
     "output_type": "stream",
     "text": [
      "None\n"
     ]
    }
   ],
   "source": [
    "foo(15)"
   ]
  },
  {
   "cell_type": "code",
   "execution_count": 40,
   "id": "1d7336a9",
   "metadata": {},
   "outputs": [
    {
     "name": "stdout",
     "output_type": "stream",
     "text": [
      "Value of a is 10  and value of b is 5\n"
     ]
    }
   ],
   "source": [
    "foo(5,10)"
   ]
  },
  {
   "cell_type": "markdown",
   "id": "4832589d",
   "metadata": {},
   "source": [
    "### 2.5 Embedded functions: using a function within a function"
   ]
  },
  {
   "cell_type": "code",
   "execution_count": 5,
   "id": "09412561",
   "metadata": {},
   "outputs": [],
   "source": [
    "def add_numbers(a,b):\n",
    "    return a + b"
   ]
  },
  {
   "cell_type": "code",
   "execution_count": 47,
   "id": "b691974e",
   "metadata": {},
   "outputs": [],
   "source": [
    "def multiply_numbers(c,d):\n",
    "    sum = add_numbers(c,d)\n",
    "    print(\"The value of sum is \",sum)\n",
    "    return c*sum"
   ]
  },
  {
   "cell_type": "code",
   "execution_count": 48,
   "id": "c78b789a",
   "metadata": {},
   "outputs": [
    {
     "name": "stdout",
     "output_type": "stream",
     "text": [
      "The value of sum is  15\n"
     ]
    },
    {
     "data": {
      "text/plain": [
       "150"
      ]
     },
     "execution_count": 48,
     "metadata": {},
     "output_type": "execute_result"
    }
   ],
   "source": [
    "multiply_numbers(10,5)"
   ]
  },
  {
   "cell_type": "markdown",
   "id": "99413534",
   "metadata": {},
   "source": [
    "# 3. Classes\n",
    "\n",
    "In Python, classes are a way to create your own data types and define how they behave. A class is like a blueprint for creating objects, which are specific instances of that class.\n",
    "\n",
    "Think of a class as a blueprint for a house. The blueprint itself isn't a house, but you can build multiple houses (objects) from it. Similarly, you can create multiple objects from a single class.\n",
    "Key Concepts in Classes\n",
    "\n",
    "- `Class Definition:` A class is defined using the class keyword.\n",
    "- `Attributes:` These are variables that hold data for the object.\n",
    "- `Methods:` These are functions that define the behavior of the object.\n",
    "- `Constructor:` The __init__ method is a special method called when an object is created. It's used to initialize the object's attributes.\n",
    "- `Object:` An instance of a class."
   ]
  },
  {
   "cell_type": "markdown",
   "id": "2b51b6c3",
   "metadata": {},
   "source": [
    "### 3.1 Example 01"
   ]
  },
  {
   "cell_type": "code",
   "execution_count": null,
   "id": "dd6d66be",
   "metadata": {},
   "outputs": [],
   "source": [
    "# Define a class\n",
    "class Dog:\n",
    "    # Constructor to initialize attributes\n",
    "    def __init__(self, name, breed):\n",
    "        self.name = name  # Attribute: name\n",
    "        self.breed = breed  # Attribute: breed\n",
    "\n",
    "    # Method to make the dog bark\n",
    "    def bark(self):\n",
    "        return f\"{self.name} says Woof!\""
   ]
  },
  {
   "cell_type": "code",
   "execution_count": null,
   "id": "8aae1d6b",
   "metadata": {},
   "outputs": [],
   "source": [
    "# Create an object (instance) of the Dog class\n",
    "my_dog = Dog(\"Buddy\", \"Golden Retriever\")\n",
    "\n",
    "# Access attributes\n",
    "print(my_dog.name)  # Output: Buddy\n",
    "print(my_dog.breed)  # Output: Golden Retriever\n",
    "\n",
    "# Call the bark method\n",
    "print(my_dog.bark())  # Output: Buddy says Woof!"
   ]
  },
  {
   "cell_type": "code",
   "execution_count": null,
   "id": "fcc63060",
   "metadata": {},
   "outputs": [],
   "source": []
  },
  {
   "cell_type": "code",
   "execution_count": 49,
   "id": "d58586df",
   "metadata": {},
   "outputs": [],
   "source": [
    "# Define a function that takes in two number, and returns the bigger number\n",
    "\n",
    "def greaternum(a,b):\n",
    "    if a > b:\n",
    "        print(a)\n",
    "    else:\n",
    "        print(b)    "
   ]
  },
  {
   "cell_type": "code",
   "execution_count": 51,
   "id": "5fe3e973",
   "metadata": {},
   "outputs": [
    {
     "name": "stdout",
     "output_type": "stream",
     "text": [
      "10\n"
     ]
    }
   ],
   "source": [
    "greaternum(5,10)"
   ]
  },
  {
   "cell_type": "code",
   "execution_count": 55,
   "id": "96ed76fc",
   "metadata": {},
   "outputs": [],
   "source": [
    "# Define function which creates a list of even numbers from a user-defiend range of numbers\n",
    "\n",
    "even_num = []\n",
    "\n",
    "def evennumlist(range):\n",
    "    for number in range:\n",
    "        if number%2 == 0:\n",
    "            even_num.append(number)\n",
    "            print(even_num)    \n",
    "        else:\n",
    "            pass\n",
    "    "
   ]
  },
  {
   "cell_type": "code",
   "execution_count": 56,
   "id": "4bcab690",
   "metadata": {},
   "outputs": [
    {
     "name": "stdout",
     "output_type": "stream",
     "text": [
      "[0]\n",
      "[0, 2]\n",
      "[0, 2, 4]\n",
      "[0, 2, 4, 6]\n",
      "[0, 2, 4, 6, 8]\n",
      "[0, 2, 4, 6, 8, 10]\n",
      "[0, 2, 4, 6, 8, 10, 12]\n",
      "[0, 2, 4, 6, 8, 10, 12, 14]\n",
      "[0, 2, 4, 6, 8, 10, 12, 14, 16]\n",
      "[0, 2, 4, 6, 8, 10, 12, 14, 16, 18]\n",
      "[0, 2, 4, 6, 8, 10, 12, 14, 16, 18, 20]\n"
     ]
    }
   ],
   "source": [
    "evennumlist(range(21))"
   ]
  },
  {
   "cell_type": "code",
   "execution_count": 54,
   "id": "ef5e54f6",
   "metadata": {},
   "outputs": [
    {
     "name": "stdout",
     "output_type": "stream",
     "text": [
      "[0, 2, 4, 6, 8, 10, 12, 14, 16, 18, 20]\n"
     ]
    }
   ],
   "source": [
    "print(even_num)"
   ]
  },
  {
   "cell_type": "code",
   "execution_count": 68,
   "id": "a5a66fbf",
   "metadata": {},
   "outputs": [],
   "source": [
    "# Define a function that print the name and age of a person based on IDs input by a user\n",
    "\n",
    "people = {\n",
    "    \"ID001\": \"Alice Johnson\",\n",
    "    \"ID002\": \"Bob Smith\",\n",
    "    \"ID003\": \"Charlie Davis\",\n",
    "    \"ID004\": \"Diana Miller\",\n",
    "    \"ID005\": \"Ethan Wilson\",\n",
    "    \"ID006\": \"Fiona Brown\",\n",
    "    \"ID007\": \"George White\",\n",
    "    \"ID008\": \"Hannah Clark\",\n",
    "    \"ID009\": \"Ian Thompson\",\n",
    "    \"ID010\": \"Julia Martinez\"\n",
    "}\n",
    "\n",
    "ages = {\n",
    "    \"Alice Johnson\": 28,\n",
    "    \"Bob Smith\": 35,\n",
    "    \"Charlie Davis\": 42,\n",
    "    \"Diana Miller\": 31,\n",
    "    \"Ethan Wilson\": 27,\n",
    "    \"Fiona Brown\": 38,\n",
    "    \"George White\": 45,\n",
    "    \"Hannah Clark\": 29,\n",
    "    \"Ian Thompson\": 33,\n",
    "    \"Julia Martinez\": 40\n",
    "}\n"
   ]
  },
  {
   "cell_type": "code",
   "execution_count": 83,
   "id": "d5136662",
   "metadata": {},
   "outputs": [],
   "source": [
    "def idchecker(ids, dict1=people, dict2=ages):\n",
    "    for k, v in dict1.items():\n",
    "        if ids == k:\n",
    "            for a, b in dict2.items():\n",
    "                if a == v:\n",
    "                    print(f\"The name is {v} and the age is {b}\")\n",
    "        else:\n",
    "            \"You go to jail\"                \n",
    "    "
   ]
  },
  {
   "cell_type": "code",
   "execution_count": 84,
   "id": "32a65d00",
   "metadata": {},
   "outputs": [
    {
     "name": "stdout",
     "output_type": "stream",
     "text": [
      "The name is Ethan Wilson and the age is 27\n"
     ]
    }
   ],
   "source": [
    "idchecker(\"ID005\")"
   ]
  },
  {
   "cell_type": "code",
   "execution_count": null,
   "id": "fc67755f",
   "metadata": {},
   "outputs": [],
   "source": []
  }
 ],
 "metadata": {
  "kernelspec": {
   "display_name": "Python 3 (ipykernel)",
   "language": "python",
   "name": "python3"
  },
  "language_info": {
   "codemirror_mode": {
    "name": "ipython",
    "version": 3
   },
   "file_extension": ".py",
   "mimetype": "text/x-python",
   "name": "python",
   "nbconvert_exporter": "python",
   "pygments_lexer": "ipython3",
   "version": "3.8.8"
  }
 },
 "nbformat": 4,
 "nbformat_minor": 5
}
